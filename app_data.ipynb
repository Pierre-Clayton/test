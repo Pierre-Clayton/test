{
 "cells": [
  {
   "cell_type": "code",
   "execution_count": null,
   "metadata": {},
   "outputs": [],
   "source": [
    "import numpy as np \n",
    "import pandas as pd \n",
    "import matplotlib.pyplot as plt\n",
    "\n",
    "from tensorflow.keras.models import Sequential \n",
    "from tensorflow.keras.layers import LSTM, Dense, Input \n",
    "from tensorflow.keras.regularizers import l1_l2\n",
    "import tensorflow as tf\n",
    "\n",
    "from sklearn.metrics import mean_squared_error, classification_report, confusion_matrix \n",
    "from sklearn.ensemble import RandomForestClassifier \n",
    "from sklearn.preprocessing import StandardScaler\n",
    "\n",
    "import random \n",
    "import os\n",
    "from joblib import dump \n",
    "\n",
    "import nbimporter \n",
    "import useful \n",
    "import create_model\n",
    "\n",
    "random_seed = 42\n",
    "\n",
    "random.seed(random_seed)\n",
    "np.random.seed(random_seed)\n",
    "tf.random.set_seed(random_seed)\n",
    "\n",
    "df_brut = pd.read_csv('data/df_brut.csv')\n",
    "\n",
    "k_iqr = 3\n",
    "\n",
    "column_name = 'bid_raw'\n",
    "column = 'bid'\n",
    "\n",
    "train_coeff = 0.6\n",
    "val_coeff = 0.2\n",
    "test_coeff = 0.2\n",
    "\n",
    "lookback = 10\n",
    "units = 30\n",
    "l1 = 0.0\n",
    "l2 = 0.001\n",
    "learning_rate = 0.01\n",
    "epochs = 50\n",
    "batch_size = 64\n",
    "\n",
    "n_estimators = 100\n",
    "random_state = 42\n",
    "\n",
    "create_model.all_models(df_brut, k_iqr, column_name, column, train_coeff, val_coeff, test_coeff, lookback, units, l1, l2, learning_rate, epochs, batch_size, n_estimators, random_state)\n",
    "\n",
    "\n",
    "\n"
   ]
  }
 ],
 "metadata": {
  "kernelspec": {
   "display_name": "Python 3",
   "language": "python",
   "name": "python3"
  },
  "language_info": {
   "name": "python",
   "version": "3.11.11"
  }
 },
 "nbformat": 4,
 "nbformat_minor": 2
}
