{
 "cells": [
  {
   "cell_type": "code",
   "execution_count": null,
   "metadata": {},
   "outputs": [],
   "source": [
    "import random \n",
    "import numpy as np \n",
    "import pandas as pd \n",
    "import matplotlib.pyplot as plt \n",
    "from scipy import stats\n",
    "\n",
    "from sklearn.preprocessing import StandardScaler \n",
    "from sklearn.metrics import precision_score, recall_score \n",
    "from sklearn.metrics import mean_squared_error, classification_report, confusion_matrix \n",
    "from sklearn.ensemble import RandomForestClassifier\n",
    "\n",
    "import tensorflow as tf\n",
    "from tensorflow.keras import backend as K\n",
    "from tensorflow.keras.models import Sequential, load_model \n",
    "from tensorflow.keras.layers import LSTM, Dense, Input \n",
    "from tensorflow.keras.regularizers import l1_12\n",
    "\n",
    "from tqdm import tqdm \n",
    "import gc\n",
    "import os\n",
    "\n",
    "from joblib import load\n",
    "\n",
    "import nbimporter \n",
    "import useful \n",
    "import create_model\n",
    "import app_data\n",
    "import funct_new_data\n",
    "\n",
    "random_seed = 42\n",
    "random.seed(random_seed)\n",
    "np.random.seed(random_seed)\n",
    "tf.random.set_seed(random_seed)\n",
    "\n",
    "df_all = pd.read_csv('data/df_all.csv')\n",
    "new_debut = int(len(df_all) * 0.5)\n",
    "\n",
    "column_name = 'ask'\n",
    "column = 'ask'\n",
    "k_iqr = 3\n",
    "\n",
    "model = load_model('model/model.h5')\n",
    "rf_classifier = load('model/rf_classifier.joblib')\n",
    "\n",
    "lookback = model.input_shape[1]\n",
    "\n",
    "funct_new_data.apply_model(df_all, new_debut, column_name, k_iqr, column, model, rf_classifier, lookback)\n"
   ]
  }
 ],
 "metadata": {
  "language_info": {
   "name": "python"
  }
 },
 "nbformat": 4,
 "nbformat_minor": 2
}
