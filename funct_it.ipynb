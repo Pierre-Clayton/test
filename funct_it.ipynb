{
 "cells": [
  {
   "cell_type": "code",
   "execution_count": null,
   "metadata": {},
   "outputs": [
    {
     "ename": "IndentationError",
     "evalue": "expected an indented block after 'else' statement on line 14 (71061901.py, line 19)",
     "output_type": "error",
     "traceback": [
      "\u001b[0;36m  Cell \u001b[0;32mIn[1], line 19\u001b[0;36m\u001b[0m\n\u001b[0;31m    labels = df['true_outliers']\u001b[0m\n\u001b[0m    ^\u001b[0m\n\u001b[0;31mIndentationError\u001b[0m\u001b[0;31m:\u001b[0m expected an indented block after 'else' statement on line 14\n"
     ]
    }
   ],
   "source": [
    "import pandas as pd\n",
    "\n",
    "def apply_model(bir_or_ask, k_iqr, model, rf_classifier, lookback):\n",
    "    ####################### IQR\n",
    "    # detecter les outliers avec le IQR\n",
    "    detected_outlier_indices = useful.detect_IQR(df_brut, k_iqr, column_name)\n",
    "\n",
    "    # creer des labels et ecrire la liste des true outliers\n",
    "    labels_first = df_brut['true_outliers']\n",
    "    true_outlier_indices = df_brut[labels_first == 1].index.tolist()\n",
    "\n",
    "    if detect_iqr(bid_or_ask) == 1:\n",
    "        return 1\n",
    "    else:\n",
    "\n",
    "        # travailler avec le lookback\n",
    "\n",
    "    # créer les nouveaux labels et les nouveaux indices des true outliers\n",
    "    labels = df['true_outliers']\n",
    "    outlier_indices = df[labels == 1].index.tolist()\n",
    "    data = df[column_name]\n",
    "\n",
    "    ######################### LSTM + RF\n",
    "    # creer les sequences pour le LSTM\n",
    "    X,y, y_labels = useful.create_sequences(data, labels, lookback)\n",
    "\n",
    "    # reshape pour LSTM\n",
    "    X_lstm = X.reshape(len(X), lookback, 1)\n",
    "\n",
    "    # predictions (avec l'affichage du temps que ça prend pour le nombre de données total, affiche plus bas)\n",
    "    #print(\"Temps pour LSTM\")\n",
    "    #%time\n",
    "    y_pred = model.predeict(X, verbose = 0).flatten()\n",
    "    #print(f\"Nombre de données dans la prédiction : {len(X)}\")\n",
    "\n",
    "    # calculer les résidus\n",
    "    residuals = y - y_pred\n",
    "\n",
    "    # preparer les donnees pour le classifier\n",
    "    X_rf, y_rf = useful.prepare_classifier_data(X, residuals, y_pred, y, y_labels)\n",
    "\n",
    "    # prediction sur le jeu de test\n",
    "    #print(\"Temps pour RF\")\n",
    "    #%time\n",
    "    Y_rf_pred = rf_classifier.predict(X_rf)\n",
    "\n",
    "    # les indices des outliers detectes par le RF\n",
    "    outlier_indices_rf = np.where(Y_rf_pred == 1)[0]\n",
    "\n",
    "    # mise à jour des indices des outliers detectes par le RF\n",
    "    anomaly_indices = np.arange(len(data) - lookback)\n",
    "    detected_anomalies_global_indices = anomaly_indices[outlier_indices_rf] + lookback\n",
    "\n",
    "    outliers_data_indices_df_brut_rf = df['index_column'][detected_anomalies_global_indices].tolist()\n",
    "    outliers_data_indices_df_brut_rf.sort()\n",
    "\n",
    "    detected_outliers_total = detected_outlier_indices.tolist() + outliers_data_indices_df_brut_rf\n",
    "    detected_outliers_total.sort()\n",
    "\n",
    "    comm_total = [i for i in detected_outliers_total if i in true_outlier_indices]\n",
    "\n",
    "    print(\"Metriques TOTALES\")\n",
    "    useful.afficher_metriques(comm_total, detected_outlier_indices, detected_outliers_total, column)\n",
    "    print(true_outlier_indices)\n",
    "    print(detected_outliers_total)\n",
    "    print(comm_total)\n",
    "\n",
    "    return df"
   ]
  },
  {
   "cell_type": "code",
   "execution_count": null,
   "metadata": {},
   "outputs": [],
   "source": []
  }
 ],
 "metadata": {
  "kernelspec": {
   "display_name": "Python 3",
   "language": "python",
   "name": "python3"
  },
  "language_info": {
   "codemirror_mode": {
    "name": "ipython",
    "version": 3
   },
   "file_extension": ".py",
   "mimetype": "text/x-python",
   "name": "python",
   "nbconvert_exporter": "python",
   "pygments_lexer": "ipython3",
   "version": "3.11.11"
  }
 },
 "nbformat": 4,
 "nbformat_minor": 2
}
